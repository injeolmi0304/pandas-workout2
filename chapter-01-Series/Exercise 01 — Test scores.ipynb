{
 "cells": [
  {
   "cell_type": "markdown",
   "metadata": {},
   "source": [
    "# Series 활용 연습문제 01 — 시험 점수"
   ]
  },
  {
   "cell_type": "markdown",
   "metadata": {},
   "source": [
    "## 요약"
   ]
  },
  {
   "cell_type": "markdown",
   "metadata": {},
   "source": [
    "- 10개월 시험 점수의 전체 평균과 반기별 평균을 계산해서 후반기 개선폭 확인\n",
    "- 9–6월(Sep–Jun) 인덱스를 가진 점수 10개를 난수로 생성해 pandas Series로 구성\n",
    "- 전체 평균(s.mean()) 계산/출력\n",
    "- 전반기(Sep–Jan)·후반기(Feb–Jun) 평균 각각 계산/출력\n",
    "- 개선폭 = 후반기 평균 − 전반기 평균 출력"
   ]
  },
  {
   "cell_type": "code",
   "execution_count": null,
   "metadata": {},
   "outputs": [],
   "source": [
    "# 필요한 라이브러리를 임포트합니다 (numpy, pandas, Series/DataFrame).\n",
    "import numpy as np\n",
    "import pandas as pd\n",
    "from pandas import Series, DataFrame"
   ]
  },
  {
   "cell_type": "code",
   "execution_count": null,
   "metadata": {},
   "outputs": [
    {
     "data": {
      "text/plain": [
       "Sep    96\n",
       "Oct    89\n",
       "Nov    85\n",
       "Dec    78\n",
       "Jan    79\n",
       "Feb    71\n",
       "Mar    72\n",
       "Apr    70\n",
       "May    75\n",
       "Jun    95\n",
       "dtype: int64"
      ]
     },
     "execution_count": 2,
     "metadata": {},
     "output_type": "execute_result"
    }
   ],
   "source": [
    "# 재현 가능한 난수 생성기(seed=0) 생성\n",
    "g = np.random.default_rng(0)\n",
    "# 성적 인덱스용 월 이름(9월~6월) 목록\n",
    "months = 'Sep Oct Nov Dec Jan Feb Mar Apr May Jun'.split()\n",
    "\n",
    "# 70~100 사이의 정수 10개로 Series s 생성 (인덱스=months)\n",
    "s = Series(g.integers(70, 101, 10),\n",
    "          index=months)\n",
    "\n",
    "# s를 표시하여 값과 인덱스를 확인\n",
    "s"
   ]
  },
  {
   "cell_type": "code",
   "execution_count": null,
   "metadata": {},
   "outputs": [
    {
     "name": "stdout",
     "output_type": "stream",
     "text": [
      "Entire year average: 81.0\n"
     ]
    }
   ],
   "source": [
    "# 전체 기간(10개월) 평균을 출력\n",
    "print(f'Entire year average: {s.mean()}')"
   ]
  },
  {
   "cell_type": "code",
   "execution_count": null,
   "metadata": {
    "scrolled": true
   },
   "outputs": [
    {
     "name": "stdout",
     "output_type": "stream",
     "text": [
      "Yearly average: 81.0\n",
      "First half average: 85.4\n",
      "Second half average: 76.6\n",
      "Improvement: -8.800000000000011\n"
     ]
    }
   ],
   "source": [
    "# 전반기(Sep~Jan) 평균과 후반기(Feb~Jun) 평균 계산\n",
    "first_half_average = s['Sep':'Jan'].mean()\n",
    "second_half_average = s['Feb':'Jun'].mean()\n",
    "\n",
    "# 전체 평균 및 반기별 평균 출력\n",
    "print(f'Yearly average: {s.mean()}')\n",
    "\n",
    "print(f'First half average: {first_half_average}')\n",
    "print(f'Second half average: {second_half_average}')\n",
    "\n",
    "# 후반기 - 전반기 = 개선폭 출력\n",
    "print(f'Improvement: {second_half_average - first_half_average}')"
   ]
  }
 ],
 "metadata": {
  "kernelspec": {
   "display_name": "Python 3 (ipykernel)",
   "language": "python",
   "name": "python3"
  },
  "language_info": {
   "codemirror_mode": {
    "name": "ipython",
    "version": 3
   },
   "file_extension": ".py",
   "mimetype": "text/x-python",
   "name": "python",
   "nbconvert_exporter": "python",
   "pygments_lexer": "ipython3",
   "version": "3.11.6"
  }
 },
 "nbformat": 4,
 "nbformat_minor": 4
}
