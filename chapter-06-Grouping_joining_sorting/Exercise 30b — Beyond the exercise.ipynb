{
 "cells": [
  {
   "cell_type": "code",
   "execution_count": 1,
   "metadata": {},
   "outputs": [],
   "source": [
    "import numpy as np\n",
    "import pandas as pd\n",
    "from pandas import Series, DataFrame"
   ]
  },
  {
   "cell_type": "markdown",
   "metadata": {},
   "source": [
    "# Beyond 1\n",
    "\n",
    "Create a single data frame containing rides from both January 2019 and January 2020, with a column `year` indicating which year it came from. Use `groupby` to compare the average cost of a taxi in January of each of these two years."
   ]
  },
  {
   "cell_type": "code",
   "execution_count": 2,
   "metadata": {},
   "outputs": [],
   "source": [
    "jan_2019_filename = '../data/nyc_taxi_2019-01.csv'\n",
    "\n",
    "jan_2019_df = pd.read_csv(jan_2019_filename,\n",
    "                usecols=['passenger_count',\n",
    "                         'trip_distance', 'total_amount'])\n",
    "jan_2019_df['year'] = 2019\n",
    "\n",
    "jan_2020_filename = '../data/nyc_taxi_2020-01.csv'\n",
    "\n",
    "jan_2020_df = pd.read_csv(jan_2020_filename,\n",
    "                usecols=['passenger_count',\n",
    "                         'trip_distance', 'total_amount'])\n",
    "jan_2020_df['year'] = 2020\n",
    "\n",
    "df = pd.concat([jan_2019_df, jan_2020_df])"
   ]
  },
  {
   "cell_type": "code",
   "execution_count": 3,
   "metadata": {},
   "outputs": [
    {
     "data": {
      "text/html": [
       "<div>\n",
       "<style scoped>\n",
       "    .dataframe tbody tr th:only-of-type {\n",
       "        vertical-align: middle;\n",
       "    }\n",
       "\n",
       "    .dataframe tbody tr th {\n",
       "        vertical-align: top;\n",
       "    }\n",
       "\n",
       "    .dataframe thead th {\n",
       "        text-align: right;\n",
       "    }\n",
       "</style>\n",
       "<table border=\"1\" class=\"dataframe\">\n",
       "  <thead>\n",
       "    <tr style=\"text-align: right;\">\n",
       "      <th></th>\n",
       "      <th>passenger_count</th>\n",
       "      <th>trip_distance</th>\n",
       "      <th>total_amount</th>\n",
       "      <th>year</th>\n",
       "    </tr>\n",
       "  </thead>\n",
       "  <tbody>\n",
       "    <tr>\n",
       "      <th>0</th>\n",
       "      <td>1.0</td>\n",
       "      <td>1.5</td>\n",
       "      <td>9.95</td>\n",
       "      <td>2019</td>\n",
       "    </tr>\n",
       "    <tr>\n",
       "      <th>1</th>\n",
       "      <td>1.0</td>\n",
       "      <td>2.6</td>\n",
       "      <td>16.30</td>\n",
       "      <td>2019</td>\n",
       "    </tr>\n",
       "    <tr>\n",
       "      <th>2</th>\n",
       "      <td>3.0</td>\n",
       "      <td>0.0</td>\n",
       "      <td>5.80</td>\n",
       "      <td>2019</td>\n",
       "    </tr>\n",
       "    <tr>\n",
       "      <th>3</th>\n",
       "      <td>5.0</td>\n",
       "      <td>0.0</td>\n",
       "      <td>7.55</td>\n",
       "      <td>2019</td>\n",
       "    </tr>\n",
       "    <tr>\n",
       "      <th>4</th>\n",
       "      <td>5.0</td>\n",
       "      <td>0.0</td>\n",
       "      <td>55.55</td>\n",
       "      <td>2019</td>\n",
       "    </tr>\n",
       "  </tbody>\n",
       "</table>\n",
       "</div>"
      ],
      "text/plain": [
       "   passenger_count  trip_distance  total_amount  year\n",
       "0              1.0            1.5          9.95  2019\n",
       "1              1.0            2.6         16.30  2019\n",
       "2              3.0            0.0          5.80  2019\n",
       "3              5.0            0.0          7.55  2019\n",
       "4              5.0            0.0         55.55  2019"
      ]
     },
     "execution_count": 3,
     "metadata": {},
     "output_type": "execute_result"
    }
   ],
   "source": [
    "df.head()"
   ]
  },
  {
   "cell_type": "code",
   "execution_count": 4,
   "metadata": {},
   "outputs": [
    {
     "data": {
      "text/plain": [
       "year\n",
       "2019    15.682222\n",
       "2020    18.663149\n",
       "Name: total_amount, dtype: float64"
      ]
     },
     "execution_count": 4,
     "metadata": {},
     "output_type": "execute_result"
    }
   ],
   "source": [
    "df.groupby('year')['total_amount'].mean()"
   ]
  },
  {
   "cell_type": "markdown",
   "metadata": {},
   "source": [
    "# Beyond 2\n",
    "\n",
    "Now create a two-level grouping, first by year and then by `passenger_count`."
   ]
  },
  {
   "cell_type": "code",
   "execution_count": 5,
   "metadata": {
    "scrolled": true
   },
   "outputs": [
    {
     "data": {
      "text/plain": [
       "year  passenger_count\n",
       "2019  0.0                18.663658\n",
       "      1.0                15.609601\n",
       "      2.0                15.831294\n",
       "      3.0                15.604015\n",
       "      4.0                15.650307\n",
       "      5.0                15.546940\n",
       "      6.0                15.437892\n",
       "      7.0                48.278421\n",
       "      8.0                64.105517\n",
       "      9.0                31.094444\n",
       "2020  0.0                18.059724\n",
       "      1.0                18.343110\n",
       "      2.0                19.050504\n",
       "      3.0                18.736862\n",
       "      4.0                19.128092\n",
       "      5.0                18.234443\n",
       "      6.0                18.367962\n",
       "      7.0                71.143103\n",
       "      8.0                58.197059\n",
       "      9.0                81.244211\n",
       "Name: total_amount, dtype: float64"
      ]
     },
     "execution_count": 5,
     "metadata": {},
     "output_type": "execute_result"
    }
   ],
   "source": [
    "# Group by year, then by passenger_count\n",
    "# 그런 다음 total_amount의 평균을 구함\n",
    "# The result is a series with a multi-index\n",
    "df.groupby(['year', 'passenger_count'])['total_amount'].mean()"
   ]
  },
  {
   "cell_type": "markdown",
   "metadata": {},
   "source": [
    "# Beyond 3\n",
    "\n",
    "Finally, the `corr` method allows us to see how strongly two columns correlate with one another. Use `corr` and then `sort_values` to find which have the highest correlation."
   ]
  },
  {
   "cell_type": "code",
   "execution_count": 6,
   "metadata": {},
   "outputs": [
    {
     "data": {
      "text/html": [
       "<div>\n",
       "<style scoped>\n",
       "    .dataframe tbody tr th:only-of-type {\n",
       "        vertical-align: middle;\n",
       "    }\n",
       "\n",
       "    .dataframe tbody tr th {\n",
       "        vertical-align: top;\n",
       "    }\n",
       "\n",
       "    .dataframe thead th {\n",
       "        text-align: right;\n",
       "    }\n",
       "</style>\n",
       "<table border=\"1\" class=\"dataframe\">\n",
       "  <thead>\n",
       "    <tr style=\"text-align: right;\">\n",
       "      <th></th>\n",
       "      <th>passenger_count</th>\n",
       "      <th>trip_distance</th>\n",
       "      <th>total_amount</th>\n",
       "      <th>year</th>\n",
       "    </tr>\n",
       "  </thead>\n",
       "  <tbody>\n",
       "    <tr>\n",
       "      <th>year</th>\n",
       "      <td>-0.021602</td>\n",
       "      <td>0.001140</td>\n",
       "      <td>0.007657</td>\n",
       "      <td>1.000000</td>\n",
       "    </tr>\n",
       "    <tr>\n",
       "      <th>total_amount</th>\n",
       "      <td>-0.000136</td>\n",
       "      <td>0.004331</td>\n",
       "      <td>1.000000</td>\n",
       "      <td>0.007657</td>\n",
       "    </tr>\n",
       "    <tr>\n",
       "      <th>trip_distance</th>\n",
       "      <td>0.008974</td>\n",
       "      <td>1.000000</td>\n",
       "      <td>0.004331</td>\n",
       "      <td>0.001140</td>\n",
       "    </tr>\n",
       "    <tr>\n",
       "      <th>passenger_count</th>\n",
       "      <td>1.000000</td>\n",
       "      <td>0.008974</td>\n",
       "      <td>-0.000136</td>\n",
       "      <td>-0.021602</td>\n",
       "    </tr>\n",
       "  </tbody>\n",
       "</table>\n",
       "</div>"
      ],
      "text/plain": [
       "                 passenger_count  trip_distance  total_amount      year\n",
       "year                   -0.021602       0.001140      0.007657  1.000000\n",
       "total_amount           -0.000136       0.004331      1.000000  0.007657\n",
       "trip_distance           0.008974       1.000000      0.004331  0.001140\n",
       "passenger_count         1.000000       0.008974     -0.000136 -0.021602"
      ]
     },
     "execution_count": 6,
     "metadata": {},
     "output_type": "execute_result"
    }
   ],
   "source": [
    "# df.corr() returns a square, so we can look at just the first column\n",
    "# and get everything we need\n",
    "\n",
    "# When we sort, we see very clearly that there's basically no correlation\n",
    "# between passenger_count and any other column. (Except for itself, of \n",
    "# course...)  So there really doesn't seem to be any financial advantage\n",
    "# for a driver to take a larger group.\n",
    "df.corr().sort_values('passenger_count')"
   ]
  },
  {
   "cell_type": "markdown",
   "metadata": {},
   "source": [
    "`trip_distance`와 `total_amount` 사이의 상관계수가 0.004 정도로 의뢰로 낮게 나옴.\n",
    "이에 대한 이유를 확인해 봐야 함."
   ]
  },
  {
   "cell_type": "code",
   "execution_count": 7,
   "metadata": {},
   "outputs": [
    {
     "data": {
      "text/html": [
       "<div>\n",
       "<style scoped>\n",
       "    .dataframe tbody tr th:only-of-type {\n",
       "        vertical-align: middle;\n",
       "    }\n",
       "\n",
       "    .dataframe tbody tr th {\n",
       "        vertical-align: top;\n",
       "    }\n",
       "\n",
       "    .dataframe thead th {\n",
       "        text-align: right;\n",
       "    }\n",
       "</style>\n",
       "<table border=\"1\" class=\"dataframe\">\n",
       "  <thead>\n",
       "    <tr style=\"text-align: right;\">\n",
       "      <th></th>\n",
       "      <th>passenger_count</th>\n",
       "      <th>trip_distance</th>\n",
       "      <th>total_amount</th>\n",
       "      <th>year</th>\n",
       "    </tr>\n",
       "  </thead>\n",
       "  <tbody>\n",
       "    <tr>\n",
       "      <th>count</th>\n",
       "      <td>1.400736e+07</td>\n",
       "      <td>1.407280e+07</td>\n",
       "      <td>1.407280e+07</td>\n",
       "      <td>1.407280e+07</td>\n",
       "    </tr>\n",
       "    <tr>\n",
       "      <th>mean</th>\n",
       "      <td>1.543659e+00</td>\n",
       "      <td>2.859596e+00</td>\n",
       "      <td>1.703894e+01</td>\n",
       "      <td>2.019455e+03</td>\n",
       "    </tr>\n",
       "    <tr>\n",
       "      <th>std</th>\n",
       "      <td>1.192295e+00</td>\n",
       "      <td>5.616996e+01</td>\n",
       "      <td>1.938733e+02</td>\n",
       "      <td>4.979830e-01</td>\n",
       "    </tr>\n",
       "    <tr>\n",
       "      <th>min</th>\n",
       "      <td>0.000000e+00</td>\n",
       "      <td>-3.062000e+01</td>\n",
       "      <td>-1.242300e+03</td>\n",
       "      <td>2.019000e+03</td>\n",
       "    </tr>\n",
       "    <tr>\n",
       "      <th>25%</th>\n",
       "      <td>1.000000e+00</td>\n",
       "      <td>9.300000e-01</td>\n",
       "      <td>9.360000e+00</td>\n",
       "      <td>2.019000e+03</td>\n",
       "    </tr>\n",
       "    <tr>\n",
       "      <th>50%</th>\n",
       "      <td>1.000000e+00</td>\n",
       "      <td>1.580000e+00</td>\n",
       "      <td>1.280000e+01</td>\n",
       "      <td>2.019000e+03</td>\n",
       "    </tr>\n",
       "    <tr>\n",
       "      <th>75%</th>\n",
       "      <td>2.000000e+00</td>\n",
       "      <td>2.880000e+00</td>\n",
       "      <td>1.830000e+01</td>\n",
       "      <td>2.020000e+03</td>\n",
       "    </tr>\n",
       "    <tr>\n",
       "      <th>max</th>\n",
       "      <td>9.000000e+00</td>\n",
       "      <td>2.102401e+05</td>\n",
       "      <td>6.232617e+05</td>\n",
       "      <td>2.020000e+03</td>\n",
       "    </tr>\n",
       "  </tbody>\n",
       "</table>\n",
       "</div>"
      ],
      "text/plain": [
       "       passenger_count  trip_distance  total_amount          year\n",
       "count     1.400736e+07   1.407280e+07  1.407280e+07  1.407280e+07\n",
       "mean      1.543659e+00   2.859596e+00  1.703894e+01  2.019455e+03\n",
       "std       1.192295e+00   5.616996e+01  1.938733e+02  4.979830e-01\n",
       "min       0.000000e+00  -3.062000e+01 -1.242300e+03  2.019000e+03\n",
       "25%       1.000000e+00   9.300000e-01  9.360000e+00  2.019000e+03\n",
       "50%       1.000000e+00   1.580000e+00  1.280000e+01  2.019000e+03\n",
       "75%       2.000000e+00   2.880000e+00  1.830000e+01  2.020000e+03\n",
       "max       9.000000e+00   2.102401e+05  6.232617e+05  2.020000e+03"
      ]
     },
     "execution_count": 7,
     "metadata": {},
     "output_type": "execute_result"
    }
   ],
   "source": [
    "df.describe()"
   ]
  },
  {
   "cell_type": "markdown",
   "metadata": {},
   "source": [
    "- `trip_distance`의 최솟값이 음수임. \n",
    "- `trip_distance`의 최댓값이 21만 마일임.\n",
    "- 두 값 모두 잘못 측정된 것으로 판단해야 함."
   ]
  },
  {
   "cell_type": "code",
   "execution_count": 8,
   "metadata": {},
   "outputs": [
    {
     "data": {
      "text/plain": [
       "-30.62"
      ]
     },
     "execution_count": 8,
     "metadata": {},
     "output_type": "execute_result"
    }
   ],
   "source": [
    "df['trip_distance'].min()"
   ]
  },
  {
   "cell_type": "code",
   "execution_count": 9,
   "metadata": {},
   "outputs": [
    {
     "data": {
      "text/plain": [
       "210240.07"
      ]
     },
     "execution_count": 9,
     "metadata": {},
     "output_type": "execute_result"
    }
   ],
   "source": [
    "df['trip_distance'].max()"
   ]
  },
  {
   "cell_type": "markdown",
   "metadata": {},
   "source": [
    "`trip_distance`의 분포를 자세히 확인해 봐야 함.\n",
    "`trip_distance`의 하위 99%에 해당하는 값이 19마일임."
   ]
  },
  {
   "cell_type": "code",
   "execution_count": 10,
   "metadata": {},
   "outputs": [
    {
     "data": {
      "text/plain": [
       "count    1.407280e+07\n",
       "mean     2.859596e+00\n",
       "std      5.616996e+01\n",
       "min     -3.062000e+01\n",
       "1%       3.000000e-02\n",
       "5%       4.600000e-01\n",
       "10%      6.000000e-01\n",
       "25%      9.300000e-01\n",
       "50%      1.580000e+00\n",
       "75%      2.880000e+00\n",
       "90%      6.500000e+00\n",
       "95%      1.066000e+01\n",
       "99%      1.900000e+01\n",
       "max      2.102401e+05\n",
       "Name: trip_distance, dtype: float64"
      ]
     },
     "execution_count": 10,
     "metadata": {},
     "output_type": "execute_result"
    }
   ],
   "source": [
    "df['trip_distance'].describe(percentiles=[0.01, 0.05, 0.1, 0.25, 0.5, 0.75, 0.9, 0.95, 0.99])"
   ]
  },
  {
   "cell_type": "markdown",
   "metadata": {},
   "source": [
    "`trip_distance`가 음수인 경우가 꽤 포함됨."
   ]
  },
  {
   "cell_type": "code",
   "execution_count": 11,
   "metadata": {},
   "outputs": [
    {
     "data": {
      "text/html": [
       "<div>\n",
       "<style scoped>\n",
       "    .dataframe tbody tr th:only-of-type {\n",
       "        vertical-align: middle;\n",
       "    }\n",
       "\n",
       "    .dataframe tbody tr th {\n",
       "        vertical-align: top;\n",
       "    }\n",
       "\n",
       "    .dataframe thead th {\n",
       "        text-align: right;\n",
       "    }\n",
       "</style>\n",
       "<table border=\"1\" class=\"dataframe\">\n",
       "  <thead>\n",
       "    <tr style=\"text-align: right;\">\n",
       "      <th></th>\n",
       "      <th>passenger_count</th>\n",
       "      <th>trip_distance</th>\n",
       "      <th>total_amount</th>\n",
       "      <th>year</th>\n",
       "    </tr>\n",
       "  </thead>\n",
       "  <tbody>\n",
       "    <tr>\n",
       "      <th>273001</th>\n",
       "      <td>1.0</td>\n",
       "      <td>-0.88</td>\n",
       "      <td>12.75</td>\n",
       "      <td>2020</td>\n",
       "    </tr>\n",
       "    <tr>\n",
       "      <th>277810</th>\n",
       "      <td>1.0</td>\n",
       "      <td>-0.88</td>\n",
       "      <td>11.55</td>\n",
       "      <td>2020</td>\n",
       "    </tr>\n",
       "    <tr>\n",
       "      <th>282887</th>\n",
       "      <td>1.0</td>\n",
       "      <td>-0.71</td>\n",
       "      <td>10.95</td>\n",
       "      <td>2020</td>\n",
       "    </tr>\n",
       "    <tr>\n",
       "      <th>787926</th>\n",
       "      <td>1.0</td>\n",
       "      <td>-9.29</td>\n",
       "      <td>34.45</td>\n",
       "      <td>2020</td>\n",
       "    </tr>\n",
       "    <tr>\n",
       "      <th>905236</th>\n",
       "      <td>1.0</td>\n",
       "      <td>-1.79</td>\n",
       "      <td>13.95</td>\n",
       "      <td>2020</td>\n",
       "    </tr>\n",
       "    <tr>\n",
       "      <th>...</th>\n",
       "      <td>...</td>\n",
       "      <td>...</td>\n",
       "      <td>...</td>\n",
       "      <td>...</td>\n",
       "    </tr>\n",
       "    <tr>\n",
       "      <th>6378826</th>\n",
       "      <td>NaN</td>\n",
       "      <td>-11.37</td>\n",
       "      <td>38.86</td>\n",
       "      <td>2020</td>\n",
       "    </tr>\n",
       "    <tr>\n",
       "      <th>6378968</th>\n",
       "      <td>NaN</td>\n",
       "      <td>-7.80</td>\n",
       "      <td>27.02</td>\n",
       "      <td>2020</td>\n",
       "    </tr>\n",
       "    <tr>\n",
       "      <th>6378978</th>\n",
       "      <td>NaN</td>\n",
       "      <td>-12.73</td>\n",
       "      <td>47.26</td>\n",
       "      <td>2020</td>\n",
       "    </tr>\n",
       "    <tr>\n",
       "      <th>6379017</th>\n",
       "      <td>NaN</td>\n",
       "      <td>-6.55</td>\n",
       "      <td>39.50</td>\n",
       "      <td>2020</td>\n",
       "    </tr>\n",
       "    <tr>\n",
       "      <th>6379027</th>\n",
       "      <td>NaN</td>\n",
       "      <td>-23.03</td>\n",
       "      <td>56.18</td>\n",
       "      <td>2020</td>\n",
       "    </tr>\n",
       "  </tbody>\n",
       "</table>\n",
       "<p>2338 rows × 4 columns</p>\n",
       "</div>"
      ],
      "text/plain": [
       "         passenger_count  trip_distance  total_amount  year\n",
       "273001               1.0          -0.88         12.75  2020\n",
       "277810               1.0          -0.88         11.55  2020\n",
       "282887               1.0          -0.71         10.95  2020\n",
       "787926               1.0          -9.29         34.45  2020\n",
       "905236               1.0          -1.79         13.95  2020\n",
       "...                  ...            ...           ...   ...\n",
       "6378826              NaN         -11.37         38.86  2020\n",
       "6378968              NaN          -7.80         27.02  2020\n",
       "6378978              NaN         -12.73         47.26  2020\n",
       "6379017              NaN          -6.55         39.50  2020\n",
       "6379027              NaN         -23.03         56.18  2020\n",
       "\n",
       "[2338 rows x 4 columns]"
      ]
     },
     "execution_count": 11,
     "metadata": {},
     "output_type": "execute_result"
    }
   ],
   "source": [
    "df[df['trip_distance'] < 0]"
   ]
  },
  {
   "cell_type": "markdown",
   "metadata": {},
   "source": [
    "200마일 이상인 경우는 10건임. 그런데 요금이 거리와 일치하지 않는 경우가 많음."
   ]
  },
  {
   "cell_type": "code",
   "execution_count": 12,
   "metadata": {},
   "outputs": [
    {
     "data": {
      "text/html": [
       "<div>\n",
       "<style scoped>\n",
       "    .dataframe tbody tr th:only-of-type {\n",
       "        vertical-align: middle;\n",
       "    }\n",
       "\n",
       "    .dataframe tbody tr th {\n",
       "        vertical-align: top;\n",
       "    }\n",
       "\n",
       "    .dataframe thead th {\n",
       "        text-align: right;\n",
       "    }\n",
       "</style>\n",
       "<table border=\"1\" class=\"dataframe\">\n",
       "  <thead>\n",
       "    <tr style=\"text-align: right;\">\n",
       "      <th></th>\n",
       "      <th>passenger_count</th>\n",
       "      <th>trip_distance</th>\n",
       "      <th>total_amount</th>\n",
       "      <th>year</th>\n",
       "    </tr>\n",
       "  </thead>\n",
       "  <tbody>\n",
       "    <tr>\n",
       "      <th>4286612</th>\n",
       "      <td>1.0</td>\n",
       "      <td>700.70</td>\n",
       "      <td>9.00</td>\n",
       "      <td>2019</td>\n",
       "    </tr>\n",
       "    <tr>\n",
       "      <th>4707513</th>\n",
       "      <td>2.0</td>\n",
       "      <td>211.36</td>\n",
       "      <td>56.56</td>\n",
       "      <td>2019</td>\n",
       "    </tr>\n",
       "    <tr>\n",
       "      <th>4881766</th>\n",
       "      <td>1.0</td>\n",
       "      <td>201.27</td>\n",
       "      <td>152.46</td>\n",
       "      <td>2019</td>\n",
       "    </tr>\n",
       "    <tr>\n",
       "      <th>6074021</th>\n",
       "      <td>1.0</td>\n",
       "      <td>831.80</td>\n",
       "      <td>11.76</td>\n",
       "      <td>2019</td>\n",
       "    </tr>\n",
       "    <tr>\n",
       "      <th>6770897</th>\n",
       "      <td>5.0</td>\n",
       "      <td>214.01</td>\n",
       "      <td>761.80</td>\n",
       "      <td>2019</td>\n",
       "    </tr>\n",
       "    <tr>\n",
       "      <th>565751</th>\n",
       "      <td>4.0</td>\n",
       "      <td>259.22</td>\n",
       "      <td>577.80</td>\n",
       "      <td>2020</td>\n",
       "    </tr>\n",
       "    <tr>\n",
       "      <th>1442784</th>\n",
       "      <td>1.0</td>\n",
       "      <td>211.70</td>\n",
       "      <td>620.30</td>\n",
       "      <td>2020</td>\n",
       "    </tr>\n",
       "    <tr>\n",
       "      <th>2154680</th>\n",
       "      <td>4.0</td>\n",
       "      <td>262.88</td>\n",
       "      <td>658.35</td>\n",
       "      <td>2020</td>\n",
       "    </tr>\n",
       "    <tr>\n",
       "      <th>3813213</th>\n",
       "      <td>2.0</td>\n",
       "      <td>241.64</td>\n",
       "      <td>617.30</td>\n",
       "      <td>2020</td>\n",
       "    </tr>\n",
       "    <tr>\n",
       "      <th>6398446</th>\n",
       "      <td>NaN</td>\n",
       "      <td>210240.07</td>\n",
       "      <td>41.32</td>\n",
       "      <td>2020</td>\n",
       "    </tr>\n",
       "  </tbody>\n",
       "</table>\n",
       "</div>"
      ],
      "text/plain": [
       "         passenger_count  trip_distance  total_amount  year\n",
       "4286612              1.0         700.70          9.00  2019\n",
       "4707513              2.0         211.36         56.56  2019\n",
       "4881766              1.0         201.27        152.46  2019\n",
       "6074021              1.0         831.80         11.76  2019\n",
       "6770897              5.0         214.01        761.80  2019\n",
       "565751               4.0         259.22        577.80  2020\n",
       "1442784              1.0         211.70        620.30  2020\n",
       "2154680              4.0         262.88        658.35  2020\n",
       "3813213              2.0         241.64        617.30  2020\n",
       "6398446              NaN      210240.07         41.32  2020"
      ]
     },
     "execution_count": 12,
     "metadata": {},
     "output_type": "execute_result"
    }
   ],
   "source": [
    "df[df['trip_distance'] > 200]"
   ]
  },
  {
   "cell_type": "markdown",
   "metadata": {},
   "source": [
    "시내 이동거리를 대상으로 상관계수를 다시 확인해볼 필요 있음."
   ]
  },
  {
   "cell_type": "code",
   "execution_count": 13,
   "metadata": {},
   "outputs": [
    {
     "data": {
      "text/html": [
       "<div>\n",
       "<style scoped>\n",
       "    .dataframe tbody tr th:only-of-type {\n",
       "        vertical-align: middle;\n",
       "    }\n",
       "\n",
       "    .dataframe tbody tr th {\n",
       "        vertical-align: top;\n",
       "    }\n",
       "\n",
       "    .dataframe thead th {\n",
       "        text-align: right;\n",
       "    }\n",
       "</style>\n",
       "<table border=\"1\" class=\"dataframe\">\n",
       "  <thead>\n",
       "    <tr style=\"text-align: right;\">\n",
       "      <th></th>\n",
       "      <th>passenger_count</th>\n",
       "      <th>trip_distance</th>\n",
       "      <th>total_amount</th>\n",
       "      <th>year</th>\n",
       "    </tr>\n",
       "  </thead>\n",
       "  <tbody>\n",
       "    <tr>\n",
       "      <th>passenger_count</th>\n",
       "      <td>1.000000</td>\n",
       "      <td>0.009516</td>\n",
       "      <td>-0.000136</td>\n",
       "      <td>-0.021492</td>\n",
       "    </tr>\n",
       "    <tr>\n",
       "      <th>trip_distance</th>\n",
       "      <td>0.009516</td>\n",
       "      <td>1.000000</td>\n",
       "      <td>0.062103</td>\n",
       "      <td>0.012671</td>\n",
       "    </tr>\n",
       "    <tr>\n",
       "      <th>total_amount</th>\n",
       "      <td>-0.000136</td>\n",
       "      <td>0.062103</td>\n",
       "      <td>1.000000</td>\n",
       "      <td>0.007819</td>\n",
       "    </tr>\n",
       "    <tr>\n",
       "      <th>year</th>\n",
       "      <td>-0.021492</td>\n",
       "      <td>0.012671</td>\n",
       "      <td>0.007819</td>\n",
       "      <td>1.000000</td>\n",
       "    </tr>\n",
       "  </tbody>\n",
       "</table>\n",
       "</div>"
      ],
      "text/plain": [
       "                 passenger_count  trip_distance  total_amount      year\n",
       "passenger_count         1.000000       0.009516     -0.000136 -0.021492\n",
       "trip_distance           0.009516       1.000000      0.062103  0.012671\n",
       "total_amount           -0.000136       0.062103      1.000000  0.007819\n",
       "year                   -0.021492       0.012671      0.007819  1.000000"
      ]
     },
     "execution_count": 13,
     "metadata": {},
     "output_type": "execute_result"
    }
   ],
   "source": [
    "df[(df['trip_distance'] <= 30) & (df['total_amount'] >= 0)].corr()"
   ]
  },
  {
   "cell_type": "markdown",
   "metadata": {},
   "source": [
    "하지만 여전히 `trip_distance`와 `total_amount` 사이의 상관계수가 0.06 정도로 매우 낮다.\n",
    "따라서 이번엔 `total_amount`의 분포를 확인해 봐야 함.\n",
    "상위 1%에 해당하는 값이 95달러 정도임."
   ]
  },
  {
   "cell_type": "code",
   "execution_count": 14,
   "metadata": {},
   "outputs": [
    {
     "data": {
      "text/plain": [
       "count    1.407280e+07\n",
       "mean     1.703894e+01\n",
       "std      1.938733e+02\n",
       "min     -1.242300e+03\n",
       "1%       4.800000e+00\n",
       "5%       6.300000e+00\n",
       "10%      7.300000e+00\n",
       "25%      9.360000e+00\n",
       "50%      1.280000e+01\n",
       "75%      1.830000e+01\n",
       "90%      3.030000e+01\n",
       "95%      4.677000e+01\n",
       "99%      7.370000e+01\n",
       "max      6.232617e+05\n",
       "Name: total_amount, dtype: float64"
      ]
     },
     "execution_count": 14,
     "metadata": {},
     "output_type": "execute_result"
    }
   ],
   "source": [
    "df['total_amount'].describe(percentiles=[0.01, 0.05, 0.1, 0.25, 0.5, 0.75, 0.9, 0.95, 0.99])"
   ]
  },
  {
   "cell_type": "markdown",
   "metadata": {},
   "source": [
    "따라서 택시 요금이 100달러 이하인 경우만 대상으로 상관계수를 다시 확인해 봐야 함."
   ]
  },
  {
   "cell_type": "code",
   "execution_count": 21,
   "metadata": {},
   "outputs": [
    {
     "name": "stdout",
     "output_type": "stream",
     "text": [
      "필터링 후 데이터셋 크기: 14,019,206\n",
      "상관계수: 0.904\n"
     ]
    }
   ],
   "source": [
    "df_trip = df[(df['trip_distance'] <= 30) & (df['trip_distance'] >= 0)]\n",
    "df_total = df_trip[(df_trip['total_amount'] <= 100) & (df_trip['total_amount'] >= 0)]\n",
    "\n",
    "print('필터링 후 데이터셋 크기:', f'{len(df_total):,}')\n",
    "print('상관계수:', round(df_total.corr().loc['trip_distance', 'total_amount'], 3))"
   ]
  },
  {
   "cell_type": "markdown",
   "metadata": {},
   "source": [
    "**결론**\n",
    "\n",
    "- 택시 이동거리와 요금을 시내에서 일상적으로 발생하는 경우에 한정하면 `trip_distance`와 `total_amount` 사이의 상관계수는 0.9 정도로 매우 높음.\n",
    "- 기타의 경우엔 입력 오류와 이상치가 많아 상관계수 계산을 방해함."
   ]
  }
 ],
 "metadata": {
  "kernelspec": {
   "display_name": "base",
   "language": "python",
   "name": "python3"
  },
  "language_info": {
   "codemirror_mode": {
    "name": "ipython",
    "version": 3
   },
   "file_extension": ".py",
   "mimetype": "text/x-python",
   "name": "python",
   "nbconvert_exporter": "python",
   "pygments_lexer": "ipython3",
   "version": "3.12.2"
  }
 },
 "nbformat": 4,
 "nbformat_minor": 4
}
