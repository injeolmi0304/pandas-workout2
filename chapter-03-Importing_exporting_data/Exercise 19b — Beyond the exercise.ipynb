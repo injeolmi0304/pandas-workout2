{
 "cells": [
  {
   "cell_type": "code",
   "execution_count": 1,
   "metadata": {},
   "outputs": [],
   "source": [
    "import numpy as np\n",
    "import pandas as pd\n",
    "from pandas import Series, DataFrame"
   ]
  },
  {
   "cell_type": "markdown",
   "metadata": {},
   "source": [
    "# Beyond 1\n",
    "\n",
    "Using method chaining, and without assigning the downloaded data to a variable, can you return the current value? Your solution should consist of a single line, which includes the download, selection, and calculation."
   ]
  },
  {
   "cell_type": "code",
   "execution_count": 2,
   "metadata": {},
   "outputs": [
    {
     "data": {
      "text/plain": [
       "364    117128.97\n",
       "Name: value, dtype: float64"
      ]
     },
     "execution_count": 2,
     "metadata": {},
     "output_type": "execute_result"
    }
   ],
   "source": [
    "pd.read_csv('https://api.blockchain.info/charts/market-price?format=csv',\n",
    "                header=None,\n",
    "                names=['date', 'value']).tail(1)['value']"
   ]
  },
  {
   "cell_type": "markdown",
   "metadata": {},
   "source": [
    "# Beyond 2"
   ]
  },
  {
   "cell_type": "markdown",
   "metadata": {},
   "source": [
    "Yahoo Finance의 공식 CSV 다운로드 API를 직접 사용하여 세계 주식시장의 거래 결과를 가져온다. 아래 코드는 지난 1년간의 S&P 500 데이터를 가져온다.\n",
    "참고로 야후 파이낸스의 S&P 500 주식시장 거래 정보는\n",
    "[S&P 500(^GSPC)](https://finance.yahoo.com/quote/%5EGSPC)에서 직접 확인할 수 있다."
   ]
  },
  {
   "cell_type": "code",
   "execution_count": 3,
   "metadata": {},
   "outputs": [],
   "source": [
    "# %pip install yfinance"
   ]
  },
  {
   "cell_type": "code",
   "execution_count": 4,
   "metadata": {},
   "outputs": [
    {
     "name": "stderr",
     "output_type": "stream",
     "text": [
      "[*********************100%***********************]  1 of 1 completed\n",
      "\n"
     ]
    }
   ],
   "source": [
    "import yfinance as yf\n",
    "import datetime as dt\n",
    "\n",
    "# 코드 실행일 기준으로 1년 전부터 오늘까지의 날짜를 지정하여 데이터 다운로드\n",
    "end_date = dt.date.today()\n",
    "start_date = end_date - dt.timedelta(days=365)\n",
    "\n",
    "# S&P 500 (^GSPC) 데이터를 다운로드합니다.\n",
    "# yfinance가 인증 및 다운로드를 모두 처리합니다.\n",
    "# auto_adjust=True로 설정하여 FutureWarning를 방지하고 조정된 종가를 사용합니다.\n",
    "df_yf = yf.download('^GSPC', start=start_date, end=end_date, auto_adjust=True)\n"
   ]
  },
  {
   "cell_type": "code",
   "execution_count": 5,
   "metadata": {},
   "outputs": [
    {
     "data": {
      "text/html": [
       "<div>\n",
       "<style scoped>\n",
       "    .dataframe tbody tr th:only-of-type {\n",
       "        vertical-align: middle;\n",
       "    }\n",
       "\n",
       "    .dataframe tbody tr th {\n",
       "        vertical-align: top;\n",
       "    }\n",
       "\n",
       "    .dataframe thead tr th {\n",
       "        text-align: left;\n",
       "    }\n",
       "\n",
       "    .dataframe thead tr:last-of-type th {\n",
       "        text-align: right;\n",
       "    }\n",
       "</style>\n",
       "<table border=\"1\" class=\"dataframe\">\n",
       "  <thead>\n",
       "    <tr>\n",
       "      <th>Price</th>\n",
       "      <th>Close</th>\n",
       "      <th>High</th>\n",
       "      <th>Low</th>\n",
       "      <th>Open</th>\n",
       "      <th>Volume</th>\n",
       "    </tr>\n",
       "    <tr>\n",
       "      <th>Ticker</th>\n",
       "      <th>^GSPC</th>\n",
       "      <th>^GSPC</th>\n",
       "      <th>^GSPC</th>\n",
       "      <th>^GSPC</th>\n",
       "      <th>^GSPC</th>\n",
       "    </tr>\n",
       "    <tr>\n",
       "      <th>Date</th>\n",
       "      <th></th>\n",
       "      <th></th>\n",
       "      <th></th>\n",
       "      <th></th>\n",
       "      <th></th>\n",
       "    </tr>\n",
       "  </thead>\n",
       "  <tbody>\n",
       "    <tr>\n",
       "      <th>2024-09-20</th>\n",
       "      <td>5702.549805</td>\n",
       "      <td>5715.140137</td>\n",
       "      <td>5674.490234</td>\n",
       "      <td>5709.640137</td>\n",
       "      <td>7867260000</td>\n",
       "    </tr>\n",
       "    <tr>\n",
       "      <th>2024-09-23</th>\n",
       "      <td>5718.569824</td>\n",
       "      <td>5725.359863</td>\n",
       "      <td>5704.220215</td>\n",
       "      <td>5711.899902</td>\n",
       "      <td>3529550000</td>\n",
       "    </tr>\n",
       "    <tr>\n",
       "      <th>2024-09-24</th>\n",
       "      <td>5732.930176</td>\n",
       "      <td>5735.319824</td>\n",
       "      <td>5698.990234</td>\n",
       "      <td>5727.660156</td>\n",
       "      <td>3872710000</td>\n",
       "    </tr>\n",
       "    <tr>\n",
       "      <th>2024-09-25</th>\n",
       "      <td>5722.259766</td>\n",
       "      <td>5741.029785</td>\n",
       "      <td>5712.060059</td>\n",
       "      <td>5733.649902</td>\n",
       "      <td>3624910000</td>\n",
       "    </tr>\n",
       "    <tr>\n",
       "      <th>2024-09-26</th>\n",
       "      <td>5745.370117</td>\n",
       "      <td>5767.370117</td>\n",
       "      <td>5721.009766</td>\n",
       "      <td>5762.220215</td>\n",
       "      <td>4391180000</td>\n",
       "    </tr>\n",
       "    <tr>\n",
       "      <th>...</th>\n",
       "      <td>...</td>\n",
       "      <td>...</td>\n",
       "      <td>...</td>\n",
       "      <td>...</td>\n",
       "      <td>...</td>\n",
       "    </tr>\n",
       "    <tr>\n",
       "      <th>2025-09-15</th>\n",
       "      <td>6615.279785</td>\n",
       "      <td>6619.620117</td>\n",
       "      <td>6602.069824</td>\n",
       "      <td>6603.490234</td>\n",
       "      <td>5045020000</td>\n",
       "    </tr>\n",
       "    <tr>\n",
       "      <th>2025-09-16</th>\n",
       "      <td>6606.759766</td>\n",
       "      <td>6626.990234</td>\n",
       "      <td>6600.109863</td>\n",
       "      <td>6624.129883</td>\n",
       "      <td>5359510000</td>\n",
       "    </tr>\n",
       "    <tr>\n",
       "      <th>2025-09-17</th>\n",
       "      <td>6600.350098</td>\n",
       "      <td>6624.390137</td>\n",
       "      <td>6551.149902</td>\n",
       "      <td>6604.870117</td>\n",
       "      <td>5805340000</td>\n",
       "    </tr>\n",
       "    <tr>\n",
       "      <th>2025-09-18</th>\n",
       "      <td>6631.959961</td>\n",
       "      <td>6656.799805</td>\n",
       "      <td>6611.890137</td>\n",
       "      <td>6626.850098</td>\n",
       "      <td>5292400000</td>\n",
       "    </tr>\n",
       "    <tr>\n",
       "      <th>2025-09-19</th>\n",
       "      <td>6664.359863</td>\n",
       "      <td>6671.819824</td>\n",
       "      <td>6630.310059</td>\n",
       "      <td>6647.109863</td>\n",
       "      <td>9125960000</td>\n",
       "    </tr>\n",
       "  </tbody>\n",
       "</table>\n",
       "<p>250 rows × 5 columns</p>\n",
       "</div>"
      ],
      "text/plain": [
       "Price             Close         High          Low         Open      Volume\n",
       "Ticker            ^GSPC        ^GSPC        ^GSPC        ^GSPC       ^GSPC\n",
       "Date                                                                      \n",
       "2024-09-20  5702.549805  5715.140137  5674.490234  5709.640137  7867260000\n",
       "2024-09-23  5718.569824  5725.359863  5704.220215  5711.899902  3529550000\n",
       "2024-09-24  5732.930176  5735.319824  5698.990234  5727.660156  3872710000\n",
       "2024-09-25  5722.259766  5741.029785  5712.060059  5733.649902  3624910000\n",
       "2024-09-26  5745.370117  5767.370117  5721.009766  5762.220215  4391180000\n",
       "...                 ...          ...          ...          ...         ...\n",
       "2025-09-15  6615.279785  6619.620117  6602.069824  6603.490234  5045020000\n",
       "2025-09-16  6606.759766  6626.990234  6600.109863  6624.129883  5359510000\n",
       "2025-09-17  6600.350098  6624.390137  6551.149902  6604.870117  5805340000\n",
       "2025-09-18  6631.959961  6656.799805  6611.890137  6626.850098  5292400000\n",
       "2025-09-19  6664.359863  6671.819824  6630.310059  6647.109863  9125960000\n",
       "\n",
       "[250 rows x 5 columns]"
      ]
     },
     "execution_count": 5,
     "metadata": {},
     "output_type": "execute_result"
    }
   ],
   "source": [
    "df_yf"
   ]
  },
  {
   "cell_type": "markdown",
   "metadata": {},
   "source": [
    "**티커(Ticker)란?*\n",
    "\n",
    "티커(Ticker) 또는 티커 심볼(Ticker Symbol)은 주식 시장에서 특정 증권을 식별하기 위해 사용하는 고유한 약어입니다. 예를 들어, 뉴욕증권거래소(NYSE)나 나스닥(NASDAQ)에 상장된 회사의 주식은 각각 고유한 티커를 가집니다.\n",
    "\n",
    "*   **`AAPL`**: Apple Inc.\n",
    "*   **`MSFT`**: Microsoft Corporation\n",
    "*   **`GOOGL`**: Alphabet Inc. (Google)\n",
    "\n",
    "야후 파이낸스에서는 시장 지수를 나타내는 티커 앞에 캐럿(`^`) 기호를 붙여 구분합니다.\n",
    "\n",
    "*   **`^GSPC`**: S&P 500 지수\n",
    "*   **`^IXIC`**: 나스닥 종합 지수\n",
    "\n",
    "국내 주식의 경우, 종목 코드 뒤에 거래소 코드를 붙여 사용합니다.\n",
    "\n",
    "*   **`.KS`**: 코스피(KOSPI) 시장\n",
    "*   **`.KQ`**: 코스닥(KOSDAQ) 시장\n",
    "*   **`005930.KS`**: 삼성전자 (코스피)\n",
    "*   **`068270.KQ`**: 셀트리온 (코스닥)\n",
    "\n",
    "`yfinance`와 같은 라이브러리를 사용할 때, 원하는 주식이나 지수의 데이터를 가져오려면 정확한 티커를 알아야 합니다."
   ]
  },
  {
   "cell_type": "markdown",
   "metadata": {},
   "source": [
    "`df_yf`는 Price와 Ticker 두 종류의 인덱스를 갖는 멀티 인덱스를 사용한다.\n",
    "Price는 0-레벨, Ticker는 1-레벨 인덱스다. \n",
    "\n",
    "이처럼 여러 레벨(MultiIndex)로 구성된 경우,\n",
    "get_level_values(0) 등을 이용하여 원하는 레벨의 컬럼만 선택할 수 있다."
   ]
  },
  {
   "cell_type": "code",
   "execution_count": 6,
   "metadata": {},
   "outputs": [
    {
     "data": {
      "text/plain": [
       "Index(['Close', 'High', 'Low', 'Open', 'Volume'], dtype='object', name='Price')"
      ]
     },
     "execution_count": 6,
     "metadata": {},
     "output_type": "execute_result"
    }
   ],
   "source": [
    "# 현재는 단일 종목을 다운로드하여 컬럼 레벨이 하나뿐이므로 실행 결과에 변화는 없습니다.\n",
    "if isinstance(df_yf.columns, pd.MultiIndex):\n",
    "    df_yf.columns = df_yf.columns.get_level_values(0)\n",
    "\n",
    "# 컬럼 확인\n",
    "df_yf.columns\n"
   ]
  },
  {
   "cell_type": "code",
   "execution_count": 7,
   "metadata": {},
   "outputs": [
    {
     "data": {
      "text/html": [
       "<div>\n",
       "<style scoped>\n",
       "    .dataframe tbody tr th:only-of-type {\n",
       "        vertical-align: middle;\n",
       "    }\n",
       "\n",
       "    .dataframe tbody tr th {\n",
       "        vertical-align: top;\n",
       "    }\n",
       "\n",
       "    .dataframe thead th {\n",
       "        text-align: right;\n",
       "    }\n",
       "</style>\n",
       "<table border=\"1\" class=\"dataframe\">\n",
       "  <thead>\n",
       "    <tr style=\"text-align: right;\">\n",
       "      <th>Price</th>\n",
       "      <th>Close</th>\n",
       "      <th>High</th>\n",
       "      <th>Low</th>\n",
       "      <th>Open</th>\n",
       "      <th>Volume</th>\n",
       "    </tr>\n",
       "    <tr>\n",
       "      <th>Date</th>\n",
       "      <th></th>\n",
       "      <th></th>\n",
       "      <th></th>\n",
       "      <th></th>\n",
       "      <th></th>\n",
       "    </tr>\n",
       "  </thead>\n",
       "  <tbody>\n",
       "    <tr>\n",
       "      <th>2024-09-20</th>\n",
       "      <td>5702.549805</td>\n",
       "      <td>5715.140137</td>\n",
       "      <td>5674.490234</td>\n",
       "      <td>5709.640137</td>\n",
       "      <td>7867260000</td>\n",
       "    </tr>\n",
       "    <tr>\n",
       "      <th>2024-09-23</th>\n",
       "      <td>5718.569824</td>\n",
       "      <td>5725.359863</td>\n",
       "      <td>5704.220215</td>\n",
       "      <td>5711.899902</td>\n",
       "      <td>3529550000</td>\n",
       "    </tr>\n",
       "    <tr>\n",
       "      <th>2024-09-24</th>\n",
       "      <td>5732.930176</td>\n",
       "      <td>5735.319824</td>\n",
       "      <td>5698.990234</td>\n",
       "      <td>5727.660156</td>\n",
       "      <td>3872710000</td>\n",
       "    </tr>\n",
       "    <tr>\n",
       "      <th>2024-09-25</th>\n",
       "      <td>5722.259766</td>\n",
       "      <td>5741.029785</td>\n",
       "      <td>5712.060059</td>\n",
       "      <td>5733.649902</td>\n",
       "      <td>3624910000</td>\n",
       "    </tr>\n",
       "    <tr>\n",
       "      <th>2024-09-26</th>\n",
       "      <td>5745.370117</td>\n",
       "      <td>5767.370117</td>\n",
       "      <td>5721.009766</td>\n",
       "      <td>5762.220215</td>\n",
       "      <td>4391180000</td>\n",
       "    </tr>\n",
       "    <tr>\n",
       "      <th>...</th>\n",
       "      <td>...</td>\n",
       "      <td>...</td>\n",
       "      <td>...</td>\n",
       "      <td>...</td>\n",
       "      <td>...</td>\n",
       "    </tr>\n",
       "    <tr>\n",
       "      <th>2025-09-15</th>\n",
       "      <td>6615.279785</td>\n",
       "      <td>6619.620117</td>\n",
       "      <td>6602.069824</td>\n",
       "      <td>6603.490234</td>\n",
       "      <td>5045020000</td>\n",
       "    </tr>\n",
       "    <tr>\n",
       "      <th>2025-09-16</th>\n",
       "      <td>6606.759766</td>\n",
       "      <td>6626.990234</td>\n",
       "      <td>6600.109863</td>\n",
       "      <td>6624.129883</td>\n",
       "      <td>5359510000</td>\n",
       "    </tr>\n",
       "    <tr>\n",
       "      <th>2025-09-17</th>\n",
       "      <td>6600.350098</td>\n",
       "      <td>6624.390137</td>\n",
       "      <td>6551.149902</td>\n",
       "      <td>6604.870117</td>\n",
       "      <td>5805340000</td>\n",
       "    </tr>\n",
       "    <tr>\n",
       "      <th>2025-09-18</th>\n",
       "      <td>6631.959961</td>\n",
       "      <td>6656.799805</td>\n",
       "      <td>6611.890137</td>\n",
       "      <td>6626.850098</td>\n",
       "      <td>5292400000</td>\n",
       "    </tr>\n",
       "    <tr>\n",
       "      <th>2025-09-19</th>\n",
       "      <td>6664.359863</td>\n",
       "      <td>6671.819824</td>\n",
       "      <td>6630.310059</td>\n",
       "      <td>6647.109863</td>\n",
       "      <td>9125960000</td>\n",
       "    </tr>\n",
       "  </tbody>\n",
       "</table>\n",
       "<p>250 rows × 5 columns</p>\n",
       "</div>"
      ],
      "text/plain": [
       "Price             Close         High          Low         Open      Volume\n",
       "Date                                                                      \n",
       "2024-09-20  5702.549805  5715.140137  5674.490234  5709.640137  7867260000\n",
       "2024-09-23  5718.569824  5725.359863  5704.220215  5711.899902  3529550000\n",
       "2024-09-24  5732.930176  5735.319824  5698.990234  5727.660156  3872710000\n",
       "2024-09-25  5722.259766  5741.029785  5712.060059  5733.649902  3624910000\n",
       "2024-09-26  5745.370117  5767.370117  5721.009766  5762.220215  4391180000\n",
       "...                 ...          ...          ...          ...         ...\n",
       "2025-09-15  6615.279785  6619.620117  6602.069824  6603.490234  5045020000\n",
       "2025-09-16  6606.759766  6626.990234  6600.109863  6624.129883  5359510000\n",
       "2025-09-17  6600.350098  6624.390137  6551.149902  6604.870117  5805340000\n",
       "2025-09-18  6631.959961  6656.799805  6611.890137  6626.850098  5292400000\n",
       "2025-09-19  6664.359863  6671.819824  6630.310059  6647.109863  9125960000\n",
       "\n",
       "[250 rows x 5 columns]"
      ]
     },
     "execution_count": 7,
     "metadata": {},
     "output_type": "execute_result"
    }
   ],
   "source": [
    "df_yf"
   ]
  },
  {
   "cell_type": "code",
   "execution_count": 8,
   "metadata": {},
   "outputs": [
    {
     "name": "stdout",
     "output_type": "stream",
     "text": [
      "<class 'pandas.core.frame.DataFrame'>\n",
      "DatetimeIndex: 250 entries, 2024-09-20 to 2025-09-19\n",
      "Data columns (total 5 columns):\n",
      " #   Column  Non-Null Count  Dtype  \n",
      "---  ------  --------------  -----  \n",
      " 0   Close   250 non-null    float64\n",
      " 1   High    250 non-null    float64\n",
      " 2   Low     250 non-null    float64\n",
      " 3   Open    250 non-null    float64\n",
      " 4   Volume  250 non-null    int64  \n",
      "dtypes: float64(4), int64(1)\n",
      "memory usage: 11.7 KB\n"
     ]
    }
   ],
   "source": [
    "df_yf.info()"
   ]
  },
  {
   "cell_type": "markdown",
   "metadata": {},
   "source": [
    "**여러 종류의 Ticker 활용**"
   ]
  },
  {
   "cell_type": "markdown",
   "metadata": {},
   "source": [
    "`^GSPC` 외의 다른 티커들과 여러 종목을 한 번에 다운로드하는 방법은 다음과 같습니다.\n",
    "\n",
    "*   `^IXIC`: 나스닥 종합 지수 (NASDAQ Composite)\n",
    "*   `^DJI`: 다우존스 산업평균지수 (Dow Jones Industrial Average)\n",
    "*   `^KS11`: 코스피 (KOSPI)\n",
    "*   `^KQ11`: 코스닥 (KOSDAQ)\n",
    "*   `^N225`: 닛케이 225 (Nikkei 225, 일본)\n",
    "*   `^FTSE`: FTSE 100 (영국)\n",
    "\n",
    "개별 종목의 경우, 예를 들어 애플(Apple Inc.)은 `AAPL`, 삼성전자는 `005930.KS` 와 같은 티커를 사용합니다.\n",
    "\n",
    "아래에서는 S&P 500과 나스닥 지수를 함께 다운로드하는 예시입니다. 두 개 이상의 종목을 다운로드하면 컬럼이 여러 레벨(MultiIndex)로 구성됩니다."
   ]
  },
  {
   "cell_type": "code",
   "execution_count": 9,
   "metadata": {},
   "outputs": [
    {
     "name": "stderr",
     "output_type": "stream",
     "text": [
      "[*********************100%***********************]  2 of 2 completed\n",
      "[*********************100%***********************]  2 of 2 completed\n"
     ]
    }
   ],
   "source": [
    "# S&P 500과 코스피 지수를 함께 다운로드\n",
    "df_multi = yf.download(['^GSPC', '^KS11'], start=start_date, end=end_date, auto_adjust=True)"
   ]
  },
  {
   "cell_type": "code",
   "execution_count": 10,
   "metadata": {},
   "outputs": [
    {
     "data": {
      "text/html": [
       "<div>\n",
       "<style scoped>\n",
       "    .dataframe tbody tr th:only-of-type {\n",
       "        vertical-align: middle;\n",
       "    }\n",
       "\n",
       "    .dataframe tbody tr th {\n",
       "        vertical-align: top;\n",
       "    }\n",
       "\n",
       "    .dataframe thead tr th {\n",
       "        text-align: left;\n",
       "    }\n",
       "\n",
       "    .dataframe thead tr:last-of-type th {\n",
       "        text-align: right;\n",
       "    }\n",
       "</style>\n",
       "<table border=\"1\" class=\"dataframe\">\n",
       "  <thead>\n",
       "    <tr>\n",
       "      <th>Price</th>\n",
       "      <th colspan=\"2\" halign=\"left\">Close</th>\n",
       "      <th colspan=\"2\" halign=\"left\">High</th>\n",
       "      <th colspan=\"2\" halign=\"left\">Low</th>\n",
       "      <th colspan=\"2\" halign=\"left\">Open</th>\n",
       "      <th colspan=\"2\" halign=\"left\">Volume</th>\n",
       "    </tr>\n",
       "    <tr>\n",
       "      <th>Ticker</th>\n",
       "      <th>^GSPC</th>\n",
       "      <th>^KS11</th>\n",
       "      <th>^GSPC</th>\n",
       "      <th>^KS11</th>\n",
       "      <th>^GSPC</th>\n",
       "      <th>^KS11</th>\n",
       "      <th>^GSPC</th>\n",
       "      <th>^KS11</th>\n",
       "      <th>^GSPC</th>\n",
       "      <th>^KS11</th>\n",
       "    </tr>\n",
       "    <tr>\n",
       "      <th>Date</th>\n",
       "      <th></th>\n",
       "      <th></th>\n",
       "      <th></th>\n",
       "      <th></th>\n",
       "      <th></th>\n",
       "      <th></th>\n",
       "      <th></th>\n",
       "      <th></th>\n",
       "      <th></th>\n",
       "      <th></th>\n",
       "    </tr>\n",
       "  </thead>\n",
       "  <tbody>\n",
       "    <tr>\n",
       "      <th>2024-09-20</th>\n",
       "      <td>5702.549805</td>\n",
       "      <td>2593.370117</td>\n",
       "      <td>5715.140137</td>\n",
       "      <td>2619.550049</td>\n",
       "      <td>5674.490234</td>\n",
       "      <td>2591.399902</td>\n",
       "      <td>5709.640137</td>\n",
       "      <td>2603.830078</td>\n",
       "      <td>7.867260e+09</td>\n",
       "      <td>496000.0</td>\n",
       "    </tr>\n",
       "    <tr>\n",
       "      <th>2024-09-23</th>\n",
       "      <td>5718.569824</td>\n",
       "      <td>2602.010010</td>\n",
       "      <td>5725.359863</td>\n",
       "      <td>2603.570068</td>\n",
       "      <td>5704.220215</td>\n",
       "      <td>2588.489990</td>\n",
       "      <td>5711.899902</td>\n",
       "      <td>2596.469971</td>\n",
       "      <td>3.529550e+09</td>\n",
       "      <td>339100.0</td>\n",
       "    </tr>\n",
       "    <tr>\n",
       "      <th>2024-09-24</th>\n",
       "      <td>5732.930176</td>\n",
       "      <td>2631.679932</td>\n",
       "      <td>5735.319824</td>\n",
       "      <td>2631.679932</td>\n",
       "      <td>5698.990234</td>\n",
       "      <td>2597.810059</td>\n",
       "      <td>5727.660156</td>\n",
       "      <td>2612.449951</td>\n",
       "      <td>3.872710e+09</td>\n",
       "      <td>355100.0</td>\n",
       "    </tr>\n",
       "    <tr>\n",
       "      <th>2024-09-25</th>\n",
       "      <td>5722.259766</td>\n",
       "      <td>2596.320068</td>\n",
       "      <td>5741.029785</td>\n",
       "      <td>2663.360107</td>\n",
       "      <td>5712.060059</td>\n",
       "      <td>2596.320068</td>\n",
       "      <td>5733.649902</td>\n",
       "      <td>2652.709961</td>\n",
       "      <td>3.624910e+09</td>\n",
       "      <td>454500.0</td>\n",
       "    </tr>\n",
       "    <tr>\n",
       "      <th>2024-09-26</th>\n",
       "      <td>5745.370117</td>\n",
       "      <td>2671.570068</td>\n",
       "      <td>5767.370117</td>\n",
       "      <td>2671.570068</td>\n",
       "      <td>5721.009766</td>\n",
       "      <td>2630.300049</td>\n",
       "      <td>5762.220215</td>\n",
       "      <td>2630.909912</td>\n",
       "      <td>4.391180e+09</td>\n",
       "      <td>324900.0</td>\n",
       "    </tr>\n",
       "  </tbody>\n",
       "</table>\n",
       "</div>"
      ],
      "text/plain": [
       "Price             Close                      High                       Low  \\\n",
       "Ticker            ^GSPC        ^KS11        ^GSPC        ^KS11        ^GSPC   \n",
       "Date                                                                          \n",
       "2024-09-20  5702.549805  2593.370117  5715.140137  2619.550049  5674.490234   \n",
       "2024-09-23  5718.569824  2602.010010  5725.359863  2603.570068  5704.220215   \n",
       "2024-09-24  5732.930176  2631.679932  5735.319824  2631.679932  5698.990234   \n",
       "2024-09-25  5722.259766  2596.320068  5741.029785  2663.360107  5712.060059   \n",
       "2024-09-26  5745.370117  2671.570068  5767.370117  2671.570068  5721.009766   \n",
       "\n",
       "Price                           Open                     Volume            \n",
       "Ticker            ^KS11        ^GSPC        ^KS11         ^GSPC     ^KS11  \n",
       "Date                                                                       \n",
       "2024-09-20  2591.399902  5709.640137  2603.830078  7.867260e+09  496000.0  \n",
       "2024-09-23  2588.489990  5711.899902  2596.469971  3.529550e+09  339100.0  \n",
       "2024-09-24  2597.810059  5727.660156  2612.449951  3.872710e+09  355100.0  \n",
       "2024-09-25  2596.320068  5733.649902  2652.709961  3.624910e+09  454500.0  \n",
       "2024-09-26  2630.300049  5762.220215  2630.909912  4.391180e+09  324900.0  "
      ]
     },
     "execution_count": 10,
     "metadata": {},
     "output_type": "execute_result"
    }
   ],
   "source": [
    "df_multi.head()"
   ]
  },
  {
   "cell_type": "markdown",
   "metadata": {},
   "source": [
    "# Beyond 3\n",
    "\n",
    "Create a two-row data frame containing the highest and lowest S&P 500 closing prices from the past year."
   ]
  },
  {
   "cell_type": "code",
   "execution_count": 11,
   "metadata": {},
   "outputs": [
    {
     "data": {
      "text/plain": [
       "idxmin   2025-04-08\n",
       "idxmax   2025-09-19\n",
       "Name: Close, dtype: datetime64[ns]"
      ]
     },
     "execution_count": 11,
     "metadata": {},
     "output_type": "execute_result"
    }
   ],
   "source": [
    "df_yf['Close'].agg(['idxmin', 'idxmax'])"
   ]
  },
  {
   "cell_type": "code",
   "execution_count": 12,
   "metadata": {},
   "outputs": [
    {
     "data": {
      "text/plain": [
       "Date\n",
       "2025-04-08    4982.770020\n",
       "2025-09-19    6664.359863\n",
       "Name: Close, dtype: float64"
      ]
     },
     "execution_count": 12,
     "metadata": {},
     "output_type": "execute_result"
    }
   ],
   "source": [
    "df_yf.loc[df_yf['Close'].agg(['idxmin', 'idxmax']), 'Close']"
   ]
  },
  {
   "cell_type": "markdown",
   "metadata": {},
   "source": [
    "Use the to_csv method to display this data in CSV format."
   ]
  },
  {
   "cell_type": "code",
   "execution_count": 13,
   "metadata": {},
   "outputs": [
    {
     "data": {
      "text/plain": [
       "'Date,Close\\n2025-04-08,4982.77001953125\\n2025-09-19,6664.35986328125\\n'"
      ]
     },
     "execution_count": 13,
     "metadata": {},
     "output_type": "execute_result"
    }
   ],
   "source": [
    "df_yf.loc[df_yf['Close'].agg(['idxmin', 'idxmax']), 'Close'].to_csv()"
   ]
  },
  {
   "cell_type": "code",
   "execution_count": 14,
   "metadata": {},
   "outputs": [
    {
     "name": "stdout",
     "output_type": "stream",
     "text": [
      "Date,Close\n",
      "2025-04-08,4982.77001953125\n",
      "2025-09-19,6664.35986328125\n",
      "\n"
     ]
    }
   ],
   "source": [
    "print(df_yf.loc[df_yf['Close'].agg(['idxmin', 'idxmax']), 'Close'].to_csv())"
   ]
  }
 ],
 "metadata": {
  "kernelspec": {
   "display_name": "base",
   "language": "python",
   "name": "python3"
  },
  "language_info": {
   "codemirror_mode": {
    "name": "ipython",
    "version": 3
   },
   "file_extension": ".py",
   "mimetype": "text/x-python",
   "name": "python",
   "nbconvert_exporter": "python",
   "pygments_lexer": "ipython3",
   "version": "3.12.2"
  }
 },
 "nbformat": 4,
 "nbformat_minor": 4
}
