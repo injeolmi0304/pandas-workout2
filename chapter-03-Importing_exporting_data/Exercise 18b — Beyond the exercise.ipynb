{
 "cells": [
  {
   "cell_type": "code",
   "execution_count": null,
   "metadata": {},
   "outputs": [],
   "source": [
    "import pandas as pd\n",
    "from pandas import Series, DataFrame"
   ]
  },
  {
   "cell_type": "markdown",
   "metadata": {},
   "source": [
    "# Beyond 1\n",
    "\n",
    "Ignore the `password` and `groupid` fields, such that they don't appear in the data frame."
   ]
  },
  {
   "cell_type": "code",
   "execution_count": null,
   "metadata": {},
   "outputs": [],
   "source": [
    "# Note that we name all columns, and then only use a subset of them\n",
    "df = pd.read_csv('../data/linux-etc-passwd.txt', \n",
    "                 sep=':', comment='#', header=None,\n",
    "                 usecols=['username', 'userid', 'name', 'homedir', 'shell'],\n",
    "                names=['username', 'password', 'userid', 'groupid', 'name', 'homedir', 'shell'])\n",
    "df"
   ]
  },
  {
   "cell_type": "markdown",
   "metadata": {},
   "source": [
    "# Beyond 2\n",
    "\n",
    "Unix systems typically reserve user IDs below 1000 to special accounts.  Show the non-special usernames in this `passwd` file."
   ]
  },
  {
   "cell_type": "code",
   "execution_count": null,
   "metadata": {},
   "outputs": [],
   "source": [
    "df = pd.read_csv('../data/linux-etc-passwd.txt',\n",
    "                 sep=':', comment='#', header=None,\n",
    "                names=['username', 'password', 'userid', 'groupid', 'name', 'homedir', 'shell'])\n",
    "\n",
    "df[df['userid'] >= 1000]"
   ]
  },
  {
   "cell_type": "markdown",
   "metadata": {},
   "source": [
    "# Beyond 3\n",
    "\n",
    "Immediately after logging into a Unix system, a command interpreter, known as a \"shell,\" fires up. What are the different shells in this file?"
   ]
  },
  {
   "cell_type": "code",
   "execution_count": null,
   "metadata": {},
   "outputs": [],
   "source": [
    "# The `unique` method does this for us, returning a NumPy array -- but Pandas offers its own\n",
    "# drop_duplicates method, which keeps us with a series\n",
    "\n",
    "df['shell'].drop_duplicates()"
   ]
  },
  {
   "cell_type": "code",
   "execution_count": null,
   "metadata": {},
   "outputs": [],
   "source": []
  }
 ],
 "metadata": {
  "kernelspec": {
   "display_name": "Python 3 (ipykernel)",
   "language": "python",
   "name": "python3"
  },
  "language_info": {
   "codemirror_mode": {
    "name": "ipython",
    "version": 3
   },
   "file_extension": ".py",
   "mimetype": "text/x-python",
   "name": "python",
   "nbconvert_exporter": "python",
   "pygments_lexer": "ipython3",
   "version": "3.11.6"
  }
 },
 "nbformat": 4,
 "nbformat_minor": 4
}
