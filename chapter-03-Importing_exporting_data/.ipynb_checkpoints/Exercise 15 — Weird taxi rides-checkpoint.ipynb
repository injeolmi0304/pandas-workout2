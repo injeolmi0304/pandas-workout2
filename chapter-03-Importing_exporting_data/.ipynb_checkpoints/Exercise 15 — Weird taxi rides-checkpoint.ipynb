{
 "cells": [
  {
   "cell_type": "code",
   "execution_count": 1,
   "metadata": {},
   "outputs": [],
   "source": [
    "import pandas as pd\n",
    "from pandas import Series, DataFrame\n",
    "\n",
    "df = pd.read_csv('../data/nyc_taxi_2019-01.csv',\n",
    "                usecols=['passenger_count', 'trip_distance',\n",
    "                        'total_amount', 'payment_type'])"
   ]
  },
  {
   "cell_type": "code",
   "execution_count": 2,
   "metadata": {},
   "outputs": [
    {
     "data": {
      "text/plain": [
       "9"
      ]
     },
     "execution_count": 2,
     "metadata": {},
     "output_type": "execute_result"
    }
   ],
   "source": [
    "# How many taxi rides had more than 8 passengers?\n",
    "df.loc[df['passenger_count'] > 8, 'passenger_count'].count()"
   ]
  },
  {
   "cell_type": "code",
   "execution_count": 3,
   "metadata": {},
   "outputs": [
    {
     "data": {
      "text/plain": [
       "117381"
      ]
     },
     "execution_count": 3,
     "metadata": {},
     "output_type": "execute_result"
    }
   ],
   "source": [
    "# How many taxi rides had zero passengers?\n",
    "df.loc[\n",
    "    df['passenger_count'] == 0, 'passenger_count'\n",
    "].count()"
   ]
  },
  {
   "cell_type": "code",
   "execution_count": 4,
   "metadata": {},
   "outputs": [
    {
     "data": {
      "text/plain": [
       "5"
      ]
     },
     "execution_count": 4,
     "metadata": {},
     "output_type": "execute_result"
    }
   ],
   "source": [
    "# How many taxi rides were paid for in cash, and cost more than $1,000?\n",
    "df.loc[\n",
    "    (df['payment_type'] == 2) & (df['total_amount'] > 1000), \n",
    "       'passenger_count'\n",
    "].count()"
   ]
  },
  {
   "cell_type": "code",
   "execution_count": 5,
   "metadata": {},
   "outputs": [
    {
     "data": {
      "text/plain": [
       "7131"
      ]
     },
     "execution_count": 5,
     "metadata": {},
     "output_type": "execute_result"
    }
   ],
   "source": [
    "# How many rides cost less than 0?\n",
    "df.loc[\n",
    "    df['total_amount'] < 0, \n",
    "    'total_amount'\n",
    "].count()"
   ]
  },
  {
   "cell_type": "code",
   "execution_count": 6,
   "metadata": {},
   "outputs": [
    {
     "data": {
      "text/plain": [
       "411255"
      ]
     },
     "execution_count": 6,
     "metadata": {},
     "output_type": "execute_result"
    }
   ],
   "source": [
    "# How many rides traveled a below-average distance, but cost an above-average amount?\n",
    "df.loc[((df['trip_distance'] < df['trip_distance'].mean()) &\n",
    "        (df['total_amount'] > df['total_amount'].mean())), \n",
    "       'trip_distance'].count()"
   ]
  }
 ],
 "metadata": {
  "kernelspec": {
   "display_name": "Python 3 (ipykernel)",
   "language": "python",
   "name": "python3"
  },
  "language_info": {
   "codemirror_mode": {
    "name": "ipython",
    "version": 3
   },
   "file_extension": ".py",
   "mimetype": "text/x-python",
   "name": "python",
   "nbconvert_exporter": "python",
   "pygments_lexer": "ipython3",
   "version": "3.11.6"
  }
 },
 "nbformat": 4,
 "nbformat_minor": 4
}
